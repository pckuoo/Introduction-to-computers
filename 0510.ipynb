{
  "nbformat": 4,
  "nbformat_minor": 0,
  "metadata": {
    "colab": {
      "provenance": [],
      "authorship_tag": "ABX9TyPZ1yNSnNnXdKJx/ZJhd1ih",
      "include_colab_link": true
    },
    "kernelspec": {
      "name": "python3",
      "display_name": "Python 3"
    },
    "language_info": {
      "name": "python"
    }
  },
  "cells": [
    {
      "cell_type": "markdown",
      "metadata": {
        "id": "view-in-github",
        "colab_type": "text"
      },
      "source": [
        "<a href=\"https://colab.research.google.com/github/pckuoo/Introduction-to-computers/blob/main/0510.ipynb\" target=\"_parent\"><img src=\"https://colab.research.google.com/assets/colab-badge.svg\" alt=\"Open In Colab\"/></a>"
      ]
    },
    {
      "cell_type": "code",
      "execution_count": 1,
      "metadata": {
        "colab": {
          "base_uri": "https://localhost:8080/"
        },
        "id": "EKuv_uv82BID",
        "outputId": "4ab5e636-36d3-42af-d50d-f521d4c76c7e"
      },
      "outputs": [
        {
          "output_type": "stream",
          "name": "stdout",
          "text": [
            "Hi\n"
          ]
        }
      ],
      "source": [
        "print(\"Hi\")"
      ]
    },
    {
      "cell_type": "code",
      "source": [
        "score=int(input(\"請輸入分數:\"))\n",
        "if score>=60:\n",
        "  print(\"及格\")\n",
        "else:\n",
        "  print(\"不及格\")"
      ],
      "metadata": {
        "colab": {
          "base_uri": "https://localhost:8080/"
        },
        "id": "trVB3yYBXhY0",
        "outputId": "af5fabe0-1c48-4a47-a233-554b4fc7a70a"
      },
      "execution_count": 2,
      "outputs": [
        {
          "output_type": "stream",
          "name": "stdout",
          "text": [
            "請輸入分數:40\n",
            "不及格\n"
          ]
        }
      ]
    },
    {
      "cell_type": "code",
      "source": [
        "password=int(input(\"請輸入密碼：\"))\n",
        "if password == 1234:\n",
        "  print(\"密碼正確\")\n",
        "else:\n",
        "  print(\"不及格\")"
      ],
      "metadata": {
        "colab": {
          "base_uri": "https://localhost:8080/"
        },
        "id": "unSWntaKYb_e",
        "outputId": "f3c694d2-b95d-463e-e399-a906d67cdfdf"
      },
      "execution_count": 4,
      "outputs": [
        {
          "output_type": "stream",
          "name": "stdout",
          "text": [
            "請輸入密碼：1111\n",
            "不及格\n"
          ]
        }
      ]
    },
    {
      "cell_type": "code",
      "source": [
        "n=int(input(\"請輸入正整數：\"))\n",
        "if n%2 ==0:\n",
        "  print(n,\"是偶數！\")\n",
        "else:\n",
        "  print(n,\"不是偶數！\")"
      ],
      "metadata": {
        "colab": {
          "base_uri": "https://localhost:8080/"
        },
        "id": "0zPuraqPaMQ0",
        "outputId": "a9a0f8ac-6142-4509-afda-0cbea1f9fc09"
      },
      "execution_count": 5,
      "outputs": [
        {
          "output_type": "stream",
          "name": "stdout",
          "text": [
            "請輸入正整數：20\n",
            "20 是偶數！\n"
          ]
        }
      ]
    },
    {
      "cell_type": "code",
      "source": [
        "n=int(input(\"請輸入正整數：\"))\n",
        "if n%2 ==0:\n",
        "  print(n,\"是偶數！\")\n",
        "else:\n",
        "  print(n,\"不是偶數！\")"
      ],
      "metadata": {
        "colab": {
          "base_uri": "https://localhost:8080/"
        },
        "id": "4Xr9biV0c6mj",
        "outputId": "fdf05df2-1d24-4540-c2e9-19008b29c073"
      },
      "execution_count": 6,
      "outputs": [
        {
          "output_type": "stream",
          "name": "stdout",
          "text": [
            "請輸入正整數：21\n",
            "21 不是偶數！\n"
          ]
        }
      ]
    },
    {
      "cell_type": "code",
      "source": [],
      "metadata": {
        "id": "I-C9m3zUdJu-"
      },
      "execution_count": null,
      "outputs": []
    }
  ]
}